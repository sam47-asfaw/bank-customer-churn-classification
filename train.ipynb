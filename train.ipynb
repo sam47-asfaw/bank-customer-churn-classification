{
 "cells": [
  {
   "cell_type": "code",
   "execution_count": 10,
   "id": "669f80f8",
   "metadata": {},
   "outputs": [],
   "source": [
    "import pickle\n",
    "\n",
    "import numpy as np\n",
    "import pandas as pd\n",
    "\n",
    "from sklearn.model_selection import train_test_split\n",
    "from sklearn.feature_extraction import DictVectorizer\n",
    "from sklearn.ensemble import RandomForestClassifier\n",
    "from sklearn.metrics import roc_auc_score\n",
    "\n",
    "import warnings\n",
    "warnings.filterwarnings(\"ignore\")"
   ]
  },
  {
   "cell_type": "code",
   "execution_count": 19,
   "id": "252259c1",
   "metadata": {},
   "outputs": [],
   "source": [
    "output_file = f'model_C=1.0.bin'"
   ]
  },
  {
   "cell_type": "code",
   "execution_count": 22,
   "id": "eb0e31ac",
   "metadata": {},
   "outputs": [],
   "source": [
    "df = pd.read_csv(\"Customer-Churn-Records.csv\")\n",
    "df.columns = df.columns.str.lower().str.lower().str.replace(' ','_')\n",
    "df = df.drop(columns = ['rownumber', 'surname'],axis = 1)\n",
    "categorical = list(df.select_dtypes(include=[\"object\"]).columns)\n",
    "numeric = list(df.select_dtypes(exclude=['object']).columns)\n",
    "numeric.remove('exited')"
   ]
  },
  {
   "cell_type": "code",
   "execution_count": 12,
   "id": "8bc7d8e9",
   "metadata": {},
   "outputs": [],
   "source": [
    "df_full_train, df_test = train_test_split(df, test_size=0.2, random_state=1)"
   ]
  },
  {
   "cell_type": "code",
   "execution_count": 25,
   "id": "fb7c0a88",
   "metadata": {},
   "outputs": [
    {
     "name": "stdout",
     "output_type": "stream",
     "text": [
      "auc=0.9993873284937859\n"
     ]
    }
   ],
   "source": [
    "#model training function\n",
    "def train(df_train, y_train, lr):\n",
    "    \n",
    "    dicts = df_train[categorical + numeric].to_dict(orient='records')\n",
    "\n",
    "    dv = DictVectorizer(sparse= True)\n",
    "    X_train = dv.fit_transform(dicts)\n",
    "\n",
    "    model = lr\n",
    "    model.fit(X_train, y_train)\n",
    "\n",
    "    return dv, model\n",
    "\n",
    "#prediction function\n",
    "def predict(df, dv, model):\n",
    "    dicts = df[categorical + numeric].to_dict(orient='records')\n",
    "\n",
    "    X = dv.transform(dicts)\n",
    "    y_pred = model.predict_proba(X)[:, 1]\n",
    "\n",
    "    return y_pred\n",
    "\n",
    "\n",
    "#Final model training and prediction\n",
    "rfc = RandomForestClassifier(\n",
    "        n_estimators=50,\n",
    "        max_depth=3,\n",
    "        random_state=1,\n",
    "        n_jobs=-1,\n",
    "        warm_start=True\n",
    "    )\n",
    "\n",
    "dv, model = train(df_full_train, df_full_train.exited.values, rfc)\n",
    "\n",
    "#predict with the model\n",
    "y_pred = predict(df_test, dv, model)\n",
    "   \n",
    "y_test = df_test.exited.values    \n",
    "\n",
    "auc = roc_auc_score(y_test, y_pred)\n",
    "print(f'auc={auc}')\n"
   ]
  },
  {
   "cell_type": "code",
   "execution_count": 26,
   "id": "9c801069",
   "metadata": {},
   "outputs": [
    {
     "name": "stdout",
     "output_type": "stream",
     "text": [
      "The model saved to model_C=1.0.bin\n"
     ]
    }
   ],
   "source": [
    "# Save the model\n",
    "\n",
    "with open(output_file, 'wb') as f_out:\n",
    "    pickle.dump((dv, model), f_out)\n",
    "\n",
    "print(f'The model saved to {output_file}')"
   ]
  },
  {
   "cell_type": "code",
   "execution_count": null,
   "id": "1115d66f",
   "metadata": {},
   "outputs": [],
   "source": []
  }
 ],
 "metadata": {
  "kernelspec": {
   "display_name": "Python 3 (ipykernel)",
   "language": "python",
   "name": "python3"
  },
  "language_info": {
   "codemirror_mode": {
    "name": "ipython",
    "version": 3
   },
   "file_extension": ".py",
   "mimetype": "text/x-python",
   "name": "python",
   "nbconvert_exporter": "python",
   "pygments_lexer": "ipython3",
   "version": "3.11.5"
  }
 },
 "nbformat": 4,
 "nbformat_minor": 5
}
