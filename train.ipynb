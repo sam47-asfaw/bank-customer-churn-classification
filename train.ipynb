{
 "cells": [
  {
   "cell_type": "code",
   "execution_count": 23,
   "id": "f39b2c80",
   "metadata": {},
   "outputs": [],
   "source": [
    "import pickle\n",
    "\n",
    "import pandas as pd\n",
    "import numpy as np\n",
    "\n",
    "from sklearn.model_selection import train_test_split\n",
    "from sklearn.feature_extraction import DictVectorizer\n",
    "from sklearn.model_selection import KFold\n",
    "from sklearn.ensemble import RandomForestClassifier\n",
    "from sklearn.metrics import roc_auc_score"
   ]
  },
  {
   "cell_type": "code",
   "execution_count": 24,
   "id": "89a06095",
   "metadata": {},
   "outputs": [],
   "source": [
    "C= 1.0"
   ]
  },
  {
   "cell_type": "code",
   "execution_count": 25,
   "id": "fdbc329e",
   "metadata": {},
   "outputs": [],
   "source": [
    "n_splits = 5\n",
    "output_file = f'model_C={C}.bin'"
   ]
  },
  {
   "cell_type": "code",
   "execution_count": 26,
   "id": "f4eab8b4",
   "metadata": {},
   "outputs": [],
   "source": [
    "df = pd.read_csv(\"Customer-Churn-Records.csv\")"
   ]
  },
  {
   "cell_type": "code",
   "execution_count": 27,
   "id": "b0d80854",
   "metadata": {},
   "outputs": [],
   "source": [
    "df.columns = df.columns.str.lower().str.lower().str.replace(' ','_')"
   ]
  },
  {
   "cell_type": "code",
   "execution_count": 28,
   "id": "cc0d3dd3",
   "metadata": {},
   "outputs": [],
   "source": [
    "df = df.drop(columns = ['rownumber', 'surname'],axis = 1)"
   ]
  },
  {
   "cell_type": "code",
   "execution_count": 29,
   "id": "9b171c15",
   "metadata": {},
   "outputs": [],
   "source": [
    "df_full_train, df_test = train_test_split(df, test_size=0.2, random_state=1)"
   ]
  },
  {
   "cell_type": "code",
   "execution_count": 30,
   "id": "6dded241",
   "metadata": {},
   "outputs": [],
   "source": [
    "numerical = [\n",
    "    'customerid','creditscore','age',\n",
    "    'tenure', 'balance', 'numofproducts', 'hascrcard',\n",
    "    'isactivemember', 'estimatedsalary',\n",
    "    'complain','satisfaction_score','point_earned'\n",
    "]\n",
    "\n",
    "categorical = ['geography','gender','card_type']"
   ]
  },
  {
   "cell_type": "code",
   "execution_count": null,
   "id": "ed0aaae4",
   "metadata": {},
   "outputs": [],
   "source": []
  },
  {
   "cell_type": "code",
   "execution_count": 31,
   "id": "7b436157",
   "metadata": {},
   "outputs": [],
   "source": [
    "def train(df_train, y_train, C=1.0):\n",
    "    dicts = df_train[categorical + numerical].to_dict(orient='records')\n",
    "\n",
    "    dv = DictVectorizer(sparse=False)\n",
    "    X_train = dv.fit_transform(dicts)\n",
    "\n",
    "    model =  RandomForestClassifier(\n",
    "        n_estimators=10,\n",
    "        max_depth= 10,\n",
    "        random_state=1,\n",
    "        n_jobs=-1,\n",
    "        warm_start=True\n",
    "    )\n",
    "\n",
    "    model.fit(X_train, y_train)\n",
    "\n",
    "    return dv, model\n",
    "\n",
    "def predict(df, dv, model):\n",
    "    dicts = df[categorical + numerical].to_dict(orient='records')\n",
    "\n",
    "    X = dv.transform(dicts)\n",
    "    y_pred = model.predict_proba(X)[:, 1]\n",
    "\n",
    "    return y_pred"
   ]
  },
  {
   "cell_type": "code",
   "execution_count": 32,
   "id": "26a71b02",
   "metadata": {},
   "outputs": [
    {
     "name": "stdout",
     "output_type": "stream",
     "text": [
      "Final model training\n",
      "auc=0.998945688115237\n",
      "The model saved to model_C=1.0.bin\n"
     ]
    }
   ],
   "source": [
    "print('Final model training')\n",
    "\n",
    "dv, model = train(df_full_train, df_full_train.exited.values, C=1.0)\n",
    "y_pred = predict(df_test, dv, model)\n",
    "\n",
    "y_test = df_test.exited.values\n",
    "auc = roc_auc_score(y_test, y_pred)\n",
    "\n",
    "print(f'auc={auc}')\n",
    "\n",
    "\n",
    "# Save the model\n",
    "\n",
    "with open(output_file, 'wb') as f_out:\n",
    "    pickle.dump((dv, model), f_out)\n",
    "\n",
    "print(f'The model saved to {output_file}')"
   ]
  },
  {
   "cell_type": "code",
   "execution_count": null,
   "id": "eaf60fdf",
   "metadata": {},
   "outputs": [],
   "source": []
  },
  {
   "cell_type": "code",
   "execution_count": null,
   "id": "f631de64",
   "metadata": {},
   "outputs": [],
   "source": []
  }
 ],
 "metadata": {
  "kernelspec": {
   "display_name": "Python 3 (ipykernel)",
   "language": "python",
   "name": "python3"
  },
  "language_info": {
   "codemirror_mode": {
    "name": "ipython",
    "version": 3
   },
   "file_extension": ".py",
   "mimetype": "text/x-python",
   "name": "python",
   "nbconvert_exporter": "python",
   "pygments_lexer": "ipython3",
   "version": "3.11.5"
  }
 },
 "nbformat": 4,
 "nbformat_minor": 5
}
